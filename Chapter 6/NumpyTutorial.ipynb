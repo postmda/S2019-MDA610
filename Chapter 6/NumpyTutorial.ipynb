{
 "cells": [
  {
   "cell_type": "markdown",
   "metadata": {},
   "source": [
    "# Numpy and Data Visualization: A Short Tutorial\n",
    "-  Numpy is an add-on package for scientific computation.\n",
    "-  The basic object in Numpy is *ndarray*, an array of objects of the same type.\n",
    "-  Operations on ndarrays are very efficient."
   ]
  },
  {
   "cell_type": "code",
   "execution_count": null,
   "metadata": {},
   "outputs": [],
   "source": [
    "# import the numpy module\n",
    "import numpy as np"
   ]
  },
  {
   "cell_type": "markdown",
   "metadata": {},
   "source": [
    "## One-dimensional Arrays"
   ]
  },
  {
   "cell_type": "markdown",
   "metadata": {},
   "source": [
    "### Constructors\n",
    "-  ```np.linspace``` builds an equally spaced array of floats.\n",
    "-  ```np.arange``` returns an array of integers.\n",
    "-  ```np.array``` converts a container object into an array.\n",
    "-  ```np.zeros```, ```np.ones``` and ```np.empty``` create an array filled with zeros, ones and Nones, respectively. \n",
    "-  Look alike constructors ```np.zeros_like```, ```np.ones_like``` and ```np.empty_lie```set up arrays of the same size and type."
   ]
  },
  {
   "cell_type": "code",
   "execution_count": null,
   "metadata": {},
   "outputs": [],
   "source": [
    "# np.linspace with endpoint = True\n",
    "x = np.linspace(0, 1, 11, endpoint = True)\n",
    "x"
   ]
  },
  {
   "cell_type": "code",
   "execution_count": null,
   "metadata": {},
   "outputs": [],
   "source": [
    "# np.linspace with endpoint = False\n",
    "x = np.linspace(0, 1, 11, endpoint = False)\n",
    "x"
   ]
  },
  {
   "cell_type": "code",
   "execution_count": null,
   "metadata": {},
   "outputs": [],
   "source": [
    "# np.arange\n",
    "y = np.arange(0, 10, 2, dtype=np.int32)\n",
    "y"
   ]
  },
  {
   "cell_type": "code",
   "execution_count": null,
   "metadata": {},
   "outputs": [],
   "source": [
    "# np.array converts a container object to an ndarray\n",
    "z = np.array([1, 2, 3])\n",
    "z"
   ]
  },
  {
   "cell_type": "code",
   "execution_count": null,
   "metadata": {},
   "outputs": [],
   "source": [
    "# np.zeros\n",
    "a1 = np.zeros(5)\n",
    "a1"
   ]
  },
  {
   "cell_type": "code",
   "execution_count": null,
   "metadata": {},
   "outputs": [],
   "source": [
    "# np.ones\n",
    "a2 = np.ones(10)\n",
    "a2"
   ]
  },
  {
   "cell_type": "code",
   "execution_count": null,
   "metadata": {},
   "outputs": [],
   "source": [
    "# np.zeros_like\n",
    "a3 = np.array([1, 2, 3, 4, 5])\n",
    "a4 = np.zeros_like(a3)\n",
    "a4"
   ]
  },
  {
   "cell_type": "code",
   "execution_count": null,
   "metadata": {},
   "outputs": [],
   "source": [
    "# np.ones_like\n",
    "a5 = np.array([1, 3, 5, 7, 9])\n",
    "a6 = np.ones_like(a5)\n",
    "a6"
   ]
  },
  {
   "cell_type": "markdown",
   "metadata": {},
   "source": [
    "### Arithmetical Operations\n",
    "-  Arithmetic operations between arrays of the same size are performed component-wise.\n",
    "-  Arithmetic operations between an array and a scalar are performed component-wise."
   ]
  },
  {
   "cell_type": "code",
   "execution_count": null,
   "metadata": {},
   "outputs": [],
   "source": [
    "# arrays a and b are of the same size\n",
    "a = np.arange(5)\n",
    "b = np.arange(2, 7)\n",
    "print(a)\n",
    "print(b)\n",
    "a + b"
   ]
  },
  {
   "cell_type": "code",
   "execution_count": null,
   "metadata": {},
   "outputs": [],
   "source": [
    "# broadcasting\n",
    "c = np.arange(5)\n",
    "print(c)\n",
    "2 * c"
   ]
  },
  {
   "cell_type": "code",
   "execution_count": null,
   "metadata": {},
   "outputs": [],
   "source": [
    "# slicing an array creates a view of the original array\n",
    "arr1 = np.arange(5)\n",
    "arr2 = arr1[2:]\n",
    "arr2[0] = 10\n",
    "print(arr2)\n",
    "print(arr1)"
   ]
  },
  {
   "cell_type": "markdown",
   "metadata": {},
   "source": [
    "### Universal Functions\n",
    "-  A *ufunc* is a universal function which when applied to an array produces an array of the same size, by operating component-wise.\n",
    "-  *Vectorization* is to implement operations through ufuncs instead of loops.\n",
    "-  Vectorization makes repeated calculations on array elements much more efficient."
   ]
  },
  {
   "cell_type": "code",
   "execution_count": null,
   "metadata": {},
   "outputs": [],
   "source": [
    "# np.exp\n",
    "a = np.arange(5)\n",
    "b = np.exp(a)\n",
    "b"
   ]
  },
  {
   "cell_type": "markdown",
   "metadata": {},
   "source": [
    " ### Logical Operations on Arrays"
   ]
  },
  {
   "cell_type": "code",
   "execution_count": null,
   "metadata": {},
   "outputs": [],
   "source": [
    "# a Boolean array\n",
    "x = np.linspace(-2, 2, 9)\n",
    "y = x < 0\n",
    "y"
   ]
  },
  {
   "cell_type": "code",
   "execution_count": null,
   "metadata": {},
   "outputs": [],
   "source": [
    "# masking\n",
    "z = x.copy()\n",
    "z[y] = -z[y]\n",
    "z"
   ]
  },
  {
   "cell_type": "code",
   "execution_count": null,
   "metadata": {},
   "outputs": [],
   "source": [
    "# masking\n",
    "z = x.copy()\n",
    "z[z < 0] = -z[z < 0]\n",
    "z"
   ]
  },
  {
   "cell_type": "markdown",
   "metadata": {},
   "source": [
    "## Two-dimensional Arrays\n",
    "-  Three attributes: ```ndim```, ```shape```, and ```dtype```."
   ]
  },
  {
   "cell_type": "code",
   "execution_count": null,
   "metadata": {},
   "outputs": [],
   "source": [
    "v = np.array([[0, 1, 2], [3, 4, 5]])\n",
    "print(v.ndim)\n",
    "print(v.shape)\n",
    "print(v.shape[0])\n",
    "print(v.dtype)"
   ]
  },
  {
   "cell_type": "markdown",
   "metadata": {},
   "source": [
    "### Indexing\n",
    "-  Fancy indexing: passing an array of indices to access multiple array elements at once. "
   ]
  },
  {
   "cell_type": "code",
   "execution_count": null,
   "metadata": {},
   "outputs": [],
   "source": [
    "# basic indexing\n",
    "v = np.array([[0, 1, 2], [3, 4, 5]])\n",
    "print(v[1, 2])\n",
    "print(v[0])\n",
    "print(v[:, 1])"
   ]
  },
  {
   "cell_type": "code",
   "execution_count": null,
   "metadata": {},
   "outputs": [],
   "source": [
    "# fancy indexing - one-dimensional\n",
    "# with fancy indexing, the shape of the result reflects the shape of the index arrays. \n",
    "x = np.array([1, 2, 3, 4, 5, 6])\n",
    "ind = np.array([[3, 2], [1, 4]])\n",
    "x[ind]"
   ]
  },
  {
   "cell_type": "code",
   "execution_count": null,
   "metadata": {},
   "outputs": [],
   "source": [
    "# fancy indexing - two-dimensional\n",
    "row = np.array([0, 1, 1])\n",
    "col = np.array([2, 1, 2])\n",
    "v[row, col]   # v[0,2], v[1,1], v[1,2]"
   ]
  },
  {
   "cell_type": "markdown",
   "metadata": {},
   "source": [
    "### Slicing\n",
    "-  Slicing an ndarray creates a view, not a copy. \n",
    "-  Apply .copy() can create a deep copy of the array."
   ]
  },
  {
   "cell_type": "code",
   "execution_count": null,
   "metadata": {},
   "outputs": [],
   "source": [
    "x = np.array([0, 1, 2, 3])\n",
    "print(x[1:3])\n",
    "# y is a view\n",
    "y = x[1:3]\n",
    "y[0] = -1\n",
    "print(x[1:3])"
   ]
  },
  {
   "cell_type": "code",
   "execution_count": null,
   "metadata": {},
   "outputs": [],
   "source": [
    "x = np.array([0, 1, 2, 3])\n",
    "print(x[1:3])\n",
    "# y is a copy\n",
    "y = x[1:3].copy()\n",
    "y[0] = -1\n",
    "print(x[1:3])"
   ]
  },
  {
   "cell_type": "markdown",
   "metadata": {},
   "source": [
    "### Constructors\n",
    "-  For the three functions ```np.zeros```, ```np.ones``` and ```np.empty```, the first argument is replaced with a tuple to define the shape of the array.\n",
    "-  The look alike constructors can be applied.\n",
    "-  ```np.reshape``` recasts the array into another shape."
   ]
  },
  {
   "cell_type": "code",
   "execution_count": null,
   "metadata": {},
   "outputs": [],
   "source": [
    "# np.zeros\n",
    "x = np.zeros((3, 4))\n",
    "x"
   ]
  },
  {
   "cell_type": "code",
   "execution_count": null,
   "metadata": {},
   "outputs": [],
   "source": [
    "# np.zeros_like\n",
    "q = np.array([[0, 1, 2], [3, 4, 5]])\n",
    "q0 = np.zeros_like(q)\n",
    "q0"
   ]
  },
  {
   "cell_type": "code",
   "execution_count": null,
   "metadata": {},
   "outputs": [],
   "source": [
    "# np.reshape\n",
    "y = np.arange(12)\n",
    "z = y.reshape((4, 3))\n",
    "print(y)\n",
    "print(z)"
   ]
  },
  {
   "cell_type": "markdown",
   "metadata": {},
   "source": [
    "### Broadcasting\n",
    "-  Broadcasting can be applied when the shapes of array x and array y differ. \n",
    "-  Rule 1: If the arrays do not have the same number of dimensions, then a \"1\" will be repeatedly prepended to the shapes of the smaller arrays until all arrays have the same number of axes.\n",
    "-  Rule 2: The arrays with a size of 1 along a particular dimension or axis act as if they had the size of array with the largest size along that dimension."
   ]
  },
  {
   "cell_type": "code",
   "execution_count": null,
   "metadata": {},
   "outputs": [],
   "source": [
    "a = np.arange(12).reshape((3, 4))\n",
    "b = np.array([10, 11, 12, 13])"
   ]
  },
  {
   "cell_type": "code",
   "execution_count": null,
   "metadata": {},
   "outputs": [],
   "source": [
    "# b is expanded along axis = 0 (columns)\n",
    "a + b"
   ]
  },
  {
   "cell_type": "code",
   "execution_count": null,
   "metadata": {},
   "outputs": [],
   "source": [
    "c = np.array([20, 30, 40])\n",
    "# could not be broadcast\n",
    "try:\n",
    "    a + c\n",
    "except ValueError:\n",
    "    print(\"ValueError: operands could not be broadcast together with shapes (3, 4) (3,)\")"
   ]
  },
  {
   "cell_type": "code",
   "execution_count": null,
   "metadata": {},
   "outputs": [],
   "source": [
    "# c is expanded along axis = 1 (rows)\n",
    "a + c[:, np.newaxis]"
   ]
  },
  {
   "cell_type": "code",
   "execution_count": null,
   "metadata": {},
   "outputs": [],
   "source": [
    "d = np.array([[5], [6], [7]])\n",
    "# d is expanded along axis = 1 (rows)\n",
    "a + d"
   ]
  },
  {
   "cell_type": "code",
   "execution_count": null,
   "metadata": {},
   "outputs": [],
   "source": [
    "# broadcasting two arrays\n",
    "e = np.arange(3).reshape((3,1))\n",
    "f = np.arange(4).reshape((1,4))\n",
    "e + f"
   ]
  },
  {
   "cell_type": "markdown",
   "metadata": {},
   "source": [
    "### Aggregation Ufuncs"
   ]
  },
  {
   "cell_type": "code",
   "execution_count": null,
   "metadata": {},
   "outputs": [],
   "source": [
    "# np.max and np.min\n",
    "x = np.arange(6).reshape((3, 2))\n",
    "print(x)\n",
    "print(np.max(x))\n",
    "print(np.max(x, axis = 0))  # column maxima\n",
    "print(np.max(x, axis = 1))  # row maxima"
   ]
  },
  {
   "cell_type": "code",
   "execution_count": null,
   "metadata": {
    "scrolled": true
   },
   "outputs": [],
   "source": [
    "# np.argmax and np.argmin\n",
    "np.argmax(x, axis = 0)   # positions of the column maxima"
   ]
  },
  {
   "cell_type": "code",
   "execution_count": null,
   "metadata": {},
   "outputs": [],
   "source": [
    "# np.sum and np.prod\n",
    "print(np.sum(x, axis = 0))   # column sums\n",
    "print(np.prod(x, axis = 1))   # row products"
   ]
  },
  {
   "cell_type": "code",
   "execution_count": null,
   "metadata": {
    "scrolled": true
   },
   "outputs": [],
   "source": [
    "# np.average and np.var\n",
    "print(np.average(x, axis = 0))\n",
    "print(np.var(x, axis = 1))"
   ]
  },
  {
   "cell_type": "markdown",
   "metadata": {},
   "source": [
    "### Boolean Arrays"
   ]
  },
  {
   "cell_type": "code",
   "execution_count": null,
   "metadata": {},
   "outputs": [],
   "source": [
    "# masking - the result is a 1-D array\n",
    "x = np.arange(12).reshape((3, 4))\n",
    "y = x[x < 6]\n",
    "y"
   ]
  },
  {
   "cell_type": "code",
   "execution_count": null,
   "metadata": {},
   "outputs": [],
   "source": [
    "# counting entries\n",
    "print(np.sum(x < 6))   # number of values less than 6\n",
    "print(np.sum(x < 6, axis = 0))   # number of values less than 6 in each column"
   ]
  },
  {
   "cell_type": "markdown",
   "metadata": {},
   "source": [
    "## Linear Algebra\n",
    "-  transpose\n",
    "-  ```np.identity```\n",
    "-  ```np.dot```\n",
    "-  ```np.vstack```"
   ]
  },
  {
   "cell_type": "code",
   "execution_count": null,
   "metadata": {},
   "outputs": [],
   "source": [
    "I = np.identity(3)\n",
    "I"
   ]
  },
  {
   "cell_type": "code",
   "execution_count": null,
   "metadata": {},
   "outputs": [],
   "source": [
    "# matrix multiplicaiton\n",
    "x = np.arange(12).reshape((3, 4))\n",
    "w = np.array([1, 2, 3])\n",
    "y = np.dot(w, x)\n",
    "y"
   ]
  },
  {
   "cell_type": "code",
   "execution_count": null,
   "metadata": {},
   "outputs": [],
   "source": [
    "# transpose\n",
    "x = np.arange(12).reshape(3, 4)\n",
    "w = np.array([[1], [2], [3]])\n",
    "y = np.dot(w.T, x)\n",
    "y"
   ]
  },
  {
   "cell_type": "markdown",
   "metadata": {},
   "source": [
    "## Random Numbers"
   ]
  },
  {
   "cell_type": "code",
   "execution_count": null,
   "metadata": {},
   "outputs": [],
   "source": [
    "# np.random.rand\n",
    "np.random.seed(12345)\n",
    "rx = np.random.rand(3, 4)\n",
    "rx"
   ]
  },
  {
   "cell_type": "code",
   "execution_count": null,
   "metadata": {},
   "outputs": [],
   "source": [
    "# np.random.randn\n",
    "ry = 2.5 * np.random.randn(3, 4) + 6   # mean of 6 and stdev of 2.5\n",
    "ry"
   ]
  },
  {
   "cell_type": "markdown",
   "metadata": {},
   "source": [
    "## Vectorization"
   ]
  },
  {
   "cell_type": "code",
   "execution_count": null,
   "metadata": {},
   "outputs": [],
   "source": [
    "def compute_reciprocal(values):\n",
    "    output = np.empty_like(values)\n",
    "    for i in range(values.size):\n",
    "        output[i] = 1.0 / values[i];\n",
    "    return output\n",
    "\n",
    "values = np.random.randn(1000000)\n",
    "%timeit -n 10 compute_reciprocal(values)\n",
    "%timeit -n 10 1.0 / values "
   ]
  },
  {
   "cell_type": "markdown",
   "metadata": {},
   "source": [
    "## Data Visualization\n",
    "-  Matplotlib is a multiplatform data visualization library built on Numpy arrays.\n",
    "-  In Jupyter notebooks, put all the plotting commands for a figure in a single notebook cell.\n",
    "-  Steps to plot:\n",
    "   *  Create a new figure with ```fig = plt.figure()```.\n",
    "   *  Add one or more subplots using ```ax = fig.add_subplot()```.\n",
    "   *  Call ```ax.plot()``` to draw the curve in each subplot. \n",
    "   *  Format the appearance of the axes and lines."
   ]
  },
  {
   "cell_type": "code",
   "execution_count": 50,
   "metadata": {},
   "outputs": [],
   "source": [
    "# initialization\n",
    "import matplotlib.pyplot as plt\n",
    "%matplotlib inline"
   ]
  },
  {
   "cell_type": "markdown",
   "metadata": {},
   "source": [
    "### Figures and Subplots"
   ]
  },
  {
   "cell_type": "code",
   "execution_count": 62,
   "metadata": {},
   "outputs": [
    {
     "data": {
      "text/plain": [
       "[<matplotlib.lines.Line2D at 0x265b98cb588>]"
      ]
     },
     "execution_count": 62,
     "metadata": {},
     "output_type": "execute_result"
    },
    {
     "data": {
      "image/png": "[encoded data removed]",
      "text/plain": [
       "<Figure size 720x360 with 1 Axes>"
      ]
     },
     "metadata": {},
     "output_type": "display_data"
    }
   ],
   "source": [
    "# a simple line plot\n",
    "fig = plt.figure(figsize = (10, 5))   # figsize is in inches\n",
    "ax = fig.add_subplot(1, 1, 1)\n",
    "x = np.linspace(0, 10, 100)\n",
    "ax.plot(x, np.sin(x))"
   ]
  },
  {
   "cell_type": "code",
   "execution_count": 69,
   "metadata": {
    "scrolled": true
   },
   "outputs": [
    {
     "data": {
      "text/plain": [
       "[<matplotlib.lines.Line2D at 0x265b9980780>]"
      ]
     },
     "execution_count": 69,
     "metadata": {},
     "output_type": "execute_result"
    },
    {
     "data": {
      "image/png": "[encoded data removed]",
      "text/plain": [
       "<Figure size 360x360 with 3 Axes>"
      ]
     },
     "metadata": {},
     "output_type": "display_data"
    }
   ],
   "source": [
    "# multiple plots\n",
    "fig = plt.figure(figsize = (5, 5))\n",
    "ax1 = fig.add_subplot(2, 2, 1)\n",
    "ax2 = fig.add_subplot(2, 2, 2)\n",
    "ax3 = fig.add_subplot(2, 2, 3)\n",
    "x = np.linspace(0, 10, 100)\n",
    "ax1.plot(x, np.sin(x))\n",
    "ax2.plot(x, np.cos(x))\n",
    "ax3.plot(x, np.exp(x))"
   ]
  },
  {
   "cell_type": "markdown",
   "metadata": {},
   "source": [
    "### Colors, Markers and Line Styles\n",
    "-  Colors: 'bgrcmykw'\n",
    "-  Linestyles: '-', '--', '-.', ':' \n",
    "-  Markers:  '.O*+xv^<>nph' "
   ]
  },
  {
   "cell_type": "code",
   "execution_count": 71,
   "metadata": {},
   "outputs": [
    {
     "data": {
      "text/plain": [
       "[<matplotlib.lines.Line2D at 0x265b9a23470>]"
      ]
     },
     "execution_count": 71,
     "metadata": {},
     "output_type": "execute_result"
    },
    {
     "data": {
      "image/png": "[encoded data removed]",
      "text/plain": [
       "<Figure size 720x360 with 1 Axes>"
      ]
     },
     "metadata": {},
     "output_type": "display_data"
    }
   ],
   "source": [
    "# a line plot with markers\n",
    "fig = plt.figure(figsize = (10, 5))   \n",
    "ax = fig.add_subplot(1, 1, 1)\n",
    "np.random.seed(12345)\n",
    "x = np.linspace(0, 10, 100)\n",
    "y = np.random.randn(100)\n",
    "ax.plot(x, y, 'go--')   # green, circular markers and dashed curve"
   ]
  },
  {
   "cell_type": "code",
   "execution_count": 76,
   "metadata": {},
   "outputs": [
    {
     "data": {
      "text/plain": [
       "[<matplotlib.lines.Line2D at 0x265b9cafcc0>]"
      ]
     },
     "execution_count": 76,
     "metadata": {},
     "output_type": "execute_result"
    },
    {
     "data": {
      "image/png": "[encoded data removed]",
      "text/plain": [
       "<Figure size 720x360 with 1 Axes>"
      ]
     },
     "metadata": {},
     "output_type": "display_data"
    }
   ],
   "source": [
    "# a scatter plot\n",
    "fig = plt.figure(figsize = (10, 5))   \n",
    "ax = fig.add_subplot(1, 1, 1)\n",
    "np.random.seed(12345)\n",
    "x = np.linspace(0, 5, 10)\n",
    "y = 2 * x + np.random.randn(10)\n",
    "ax.plot(x, y, 'ro')   # red, circular markers"
   ]
  },
  {
   "cell_type": "code",
   "execution_count": 82,
   "metadata": {},
   "outputs": [
    {
     "data": {
      "text/plain": [
       "(array([0.00328844, 0.01808642, 0.06741304, 0.16606626, 0.31897875,\n",
       "        0.3633727 , 0.35350738, 0.23019085, 0.09372056, 0.02959597]),\n",
       " array([-3.42825366, -2.82006268, -2.2118717 , -1.60368072, -0.99548975,\n",
       "        -0.38729877,  0.22089221,  0.82908319,  1.43727417,  2.04546514,\n",
       "         2.65365612]),\n",
       " <a list of 1 Patch objects>)"
      ]
     },
     "execution_count": 82,
     "metadata": {},
     "output_type": "execute_result"
    },
    {
     "data": {
      "image/png": "[encoded data removed]",
      "text/plain": [
       "<Figure size 432x288 with 1 Axes>"
      ]
     },
     "metadata": {},
     "output_type": "display_data"
    }
   ],
   "source": [
    "# a histogram\n",
    "fig = plt.figure()\n",
    "ax = fig.add_subplot(1, 1, 1)\n",
    "data = np.random.randn(1000)\n",
    "ax.hist(data, bins = 10, density = True, histtype = 'stepfilled', color = 'steelblue', edgecolor = 'none')"
   ]
  },
  {
   "cell_type": "markdown",
   "metadata": {},
   "source": [
    "### Axes, Title, Labels, and Legends\n",
    "-  Axis limits: ```ax.set_xlim()```, ```ax.set_ylim()```, or ```ax.set_axis()```\n",
    "-  Title: ```ax.set_title()```\n",
    "-  Axis labels: ```ax.set_xlabel()```, ```ax.set_ylabel()```\n",
    "-  Legends: ```ax.legend()```"
   ]
  },
  {
   "cell_type": "code",
   "execution_count": 78,
   "metadata": {},
   "outputs": [
    {
     "data": {
      "text/plain": [
       "<matplotlib.legend.Legend at 0x265b9c924a8>"
      ]
     },
     "execution_count": 78,
     "metadata": {},
     "output_type": "execute_result"
    },
    {
     "data": {
      "image/png": "[encoded data removed]",
      "text/plain": [
       "<Figure size 432x288 with 1 Axes>"
      ]
     },
     "metadata": {},
     "output_type": "display_data"
    }
   ],
   "source": [
    "# a figure with multiple line plots\n",
    "fig = plt.figure()\n",
    "ax = fig.add_subplot(1, 1, 1)\n",
    "x = np.linspace(0, 10, 100)\n",
    "ax.plot(x, np.sin(x), label = 'six(x)')\n",
    "ax.plot(x, np.cos(x), label = 'cos(x)')\n",
    "ax.set_title('Functions of six(x) and cos(x)')\n",
    "ax.set_xlabel('x value')\n",
    "ax.set_ylabel('function')\n",
    "ax.set_xlim([0, 10])\n",
    "ax.set_ylim([-1, 1])\n",
    "ax.legend()"
   ]
  }
 ],
 "metadata": {
  "kernelspec": {
   "display_name": "Python 3",
   "language": "python",
   "name": "python3"
  },
  "language_info": {
   "codemirror_mode": {
    "name": "ipython",
    "version": 3
   },
   "file_extension": ".py",
   "mimetype": "text/x-python",
   "name": "python",
   "nbconvert_exporter": "python",
   "pygments_lexer": "ipython3",
   "version": "3.6.5"
  }
 },
 "nbformat": 4,
 "nbformat_minor": 2
}
